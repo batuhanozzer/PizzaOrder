{
  "nbformat": 4,
  "nbformat_minor": 0,
  "metadata": {
    "colab": {
      "provenance": [],
      "mount_file_id": "1pYbfcyx69SzL-ROa_S29wJOdS7Wu8N12",
      "authorship_tag": "ABX9TyM0EoQNYk6B6dTTyjl3Guuu",
      "include_colab_link": true
    },
    "kernelspec": {
      "name": "python3",
      "display_name": "Python 3"
    },
    "language_info": {
      "name": "python"
    }
  },
  "cells": [
    {
      "cell_type": "markdown",
      "metadata": {
        "id": "view-in-github",
        "colab_type": "text"
      },
      "source": [
        "<a href=\"https://colab.research.google.com/github/batuhanozzer/PizzaOrder/blob/main/PizzaOrderSystem.ipynb\" target=\"_parent\"><img src=\"https://colab.research.google.com/assets/colab-badge.svg\" alt=\"Open In Colab\"/></a>"
      ]
    },
    {
      "cell_type": "code",
      "source": [
        "import time"
      ],
      "metadata": {
        "id": "vhZwxHKVRtRl"
      },
      "execution_count": 54,
      "outputs": []
    },
    {
      "cell_type": "code",
      "execution_count": 47,
      "metadata": {
        "id": "vwItdUUF3Xh7"
      },
      "outputs": [],
      "source": [
        "class Pizza:\n",
        "    #Attributes\n",
        "    cost = int(0)\n",
        "    description = \"\"\n",
        "\n",
        "    #Methods\n",
        "    def getDescription(self):  return self.description\n",
        "    def getCost(self):  return self.cost\n",
        "\n",
        "\n",
        "class Classic(Pizza):\n",
        "  def __init__(self):\n",
        "      self.description = \"Classic Pizza\"\n",
        "      self.cost = 100\n",
        "\n",
        "class Margherita(Pizza):\n",
        "     def __init__(self):\n",
        "        self.description = \"Margherita Pizza\"\n",
        "        self.cost = 200\n",
        "\n",
        "\n",
        "class TurkishPizza(Pizza):\n",
        "     def __init__(self):\n",
        "        self.description = \"Turkish Pizza\"\n",
        "        self.cost = 300\n",
        "\n",
        "class PlainPizza(Pizza):\n",
        "     def __init__(self):\n",
        "       self.description = \"Plain Pizza\"\n",
        "       self.cost = 400\n"
      ]
    },
    {
      "cell_type": "code",
      "source": [
        "class Decorator(Pizza):\n",
        "    def __init__(self):\n",
        "        self.cost = 0\n",
        "        self.description = \"\"\n",
        "\n",
        "class Olive(Decorator):\n",
        "    def __init__(self):\n",
        "        self.cost = 10\n",
        "        self.description = \"Olive\"\n",
        "\n",
        "\n",
        "class Mushroom(Decorator):\n",
        "    def __init__(self):\n",
        "        self.cost = 20\n",
        "        self.description = \"Mushroom\"\n",
        "\n",
        "class GoatCheese(Decorator):\n",
        "    def __init__(self):\n",
        "        self.cost = 30\n",
        "        self.description = \"GoatCheese\"\n",
        "\n",
        "class Meat(Decorator):\n",
        "    def __init__(self):\n",
        "        self.cost = 40\n",
        "        self.description = \"Meat\"\n",
        "\n",
        "class Onion(Decorator):\n",
        "    def __init__(self):\n",
        "        self.cost = 40\n",
        "        self.description = \"Onion\"\n",
        "\n",
        "class Corn(Decorator):\n",
        "    def __init__(self):\n",
        "        self.cost = 50\n",
        "        self.description = \"Corn\""
      ],
      "metadata": {
        "id": "sQVG5og7Kugz"
      },
      "execution_count": 31,
      "outputs": []
    },
    {
      "cell_type": "code",
      "source": [
        "def PrintPizzaDoughMenu():\n",
        "    myfile = open(\"/content/PizzaOrder/PizzaDoughMenu.txt\", \"r\");\n",
        "    print(myfile.read())\n",
        "    myfile.close();\n"
      ],
      "metadata": {
        "id": "apsTC1PF7B_Q"
      },
      "execution_count": 32,
      "outputs": []
    },
    {
      "cell_type": "code",
      "source": [
        "def PrintPizzaSauceMenu():\n",
        "    myfile = open(\"/content/PizzaOrder/PizzaSauceMenu.txt\", \"r\");\n",
        "    print(myfile.read())\n",
        "    myfile.close()"
      ],
      "metadata": {
        "id": "A2X2CC7T8lAt"
      },
      "execution_count": 33,
      "outputs": []
    },
    {
      "cell_type": "code",
      "source": [
        "def PayementProcedure(cost, description):\n",
        "    myfile = open(\"/content/PizzaOrder/Orders_Database.csv\", \"a\")\n",
        "\n",
        "    name      = input(\"Enter your Name: \")\n",
        "    ID        = input(\"Enter your Card ID: \")\n",
        "    password  = input(\"Enter your password: \")\n",
        "\n",
        "    myfile.write(f\"Name: {name}, Card ID: {ID}, Password: {password}, Pizza Cost: {cost}, Pizza Description: {description}, Order Time: {time.ctime()}\\n\")\n",
        "    myfile.close();"
      ],
      "metadata": {
        "id": "XdmFWMEd8wkx"
      },
      "execution_count": 58,
      "outputs": []
    },
    {
      "cell_type": "code",
      "source": [
        "def MakePizza():\n",
        "\n",
        "    PrintPizzaDoughMenu()\n",
        "    choice = int(input(\"Choose your pizza type: \"))\n",
        "\n",
        "    #Creating the pizza dough\n",
        "    if choice == 1:\n",
        "      obj = Classic()\n",
        "\n",
        "    elif choice == 2:\n",
        "\n",
        "      obj = Margherita()\n",
        "    elif choice == 3:\n",
        "\n",
        "      obj = TurkishPizza()\n",
        "    elif choice == 4:\n",
        "\n",
        "      obj = PlainPizza()\n",
        "    else:\n",
        "      print(\"Invalid choice!!!\")\n",
        "      exit (-1)\n",
        "\n",
        "    while True:\n",
        "      PrintPizzaSauceMenu()\n",
        "      choice = int(input(\"Choose your pizza sauce: \"))\n",
        "\n",
        "      if choice == 1:\n",
        "        temp = Olive()\n",
        "        obj.cost += temp.getCost()\n",
        "        obj.description += \", \" + temp.getDescription()\n",
        "      elif choice == 2:\n",
        "        temp = Mushroom()\n",
        "        obj.cost += temp.getCost()\n",
        "        obj.description += \", \" + temp.getDescription()\n",
        "      elif choice == 3:\n",
        "        temp = GoatCheese()\n",
        "        obj.cost += temp.getCost()\n",
        "        obj.description += \", \" + temp.getDescription()\n",
        "      elif choice == 2:\n",
        "        temp = Meat()\n",
        "        obj.cost += temp.getCost()\n",
        "        obj.description += \", \" + temp.getDescription()\n",
        "      elif choice == 4:\n",
        "        temp = Onion()\n",
        "        obj.cost += temp.getCost()\n",
        "        obj.description += \", \" + temp.getDescription()\n",
        "      elif choice == 2:\n",
        "        temp = Corn()\n",
        "        obj.cost += temp.getCost()\n",
        "        obj.description += \", \" + temp.getDescription()\n",
        "      else:\n",
        "        print(\"There is no such that choice!!!\")\n",
        "\n",
        "      decision = input(\"Do you want to add more sauce? <y/n>: \")\n",
        "\n",
        "      if decision == 'n':\n",
        "        break\n",
        "\n",
        "    print(f\"Pizza Description: {obj.getDescription()}, Pizza Cost: {obj.getCost()}\")\n",
        "    PayementProcedure(obj.getCost(), obj.getDescription())"
      ],
      "metadata": {
        "id": "Uk5K2od_-8rL"
      },
      "execution_count": 48,
      "outputs": []
    },
    {
      "cell_type": "code",
      "source": [
        "while True:\n",
        "    MakePizza()\n",
        "    decision = input(\"Do you want to continue <y/n>? \")\n",
        "\n",
        "    if decision == 'n':\n",
        "      break;"
      ],
      "metadata": {
        "colab": {
          "base_uri": "https://localhost:8080/"
        },
        "id": "lS4DEKBhMqcf",
        "outputId": "fe62270e-9052-4875-fca1-d0c6fba65cb3"
      },
      "execution_count": 59,
      "outputs": [
        {
          "name": "stdout",
          "output_type": "stream",
          "text": [
            "Lütfen Bir Pizza Tabanı Seçiniz:\n",
            "1: Klasik\n",
            "2: Margarita\n",
            "3: TürkPizza\n",
            "4: Sade Pizza\n",
            "Choose your pizza type: 1\n",
            "Lütfen Bir Sos Seçiniz:\n",
            "1: Zeytin\n",
            "2: Mantarlar\n",
            "3: Keçi Peyniri\n",
            "4: Et\n",
            "5: Soğan\n",
            "6: Mısır\n",
            "Choose your pizza sauce: 1\n",
            "Do you want to add more sauce? <y/n>: n\n",
            "Pizza Description: Classic Pizza, Olive, Pizza Cost: 110\n",
            "Enter your Name: Batuhan\n",
            "Enter your Card ID: 2451 2456 3546 3241\n",
            "Enter your password: 1234\n",
            "Do you want to continue <y/n>? y\n",
            "Lütfen Bir Pizza Tabanı Seçiniz:\n",
            "1: Klasik\n",
            "2: Margarita\n",
            "3: TürkPizza\n",
            "4: Sade Pizza\n",
            "Choose your pizza type: 3\n",
            "Lütfen Bir Sos Seçiniz:\n",
            "1: Zeytin\n",
            "2: Mantarlar\n",
            "3: Keçi Peyniri\n",
            "4: Et\n",
            "5: Soğan\n",
            "6: Mısır\n",
            "Choose your pizza sauce: 3\n",
            "Do you want to add more sauce? <y/n>: y\n",
            "Lütfen Bir Sos Seçiniz:\n",
            "1: Zeytin\n",
            "2: Mantarlar\n",
            "3: Keçi Peyniri\n",
            "4: Et\n",
            "5: Soğan\n",
            "6: Mısır\n",
            "Choose your pizza sauce: 2\n",
            "Do you want to add more sauce? <y/n>: n\n",
            "Pizza Description: Turkish Pizza, GoatCheese, Mushroom, Pizza Cost: 350\n",
            "Enter your Name: Osman\n",
            "Enter your Card ID: 2145 3251 3425 3262\n",
            "Enter your password: 3263\n",
            "Do you want to continue <y/n>? n\n"
          ]
        }
      ]
    },
    {
      "cell_type": "code",
      "source": [
        "    myfile = open(\"/content/PizzaOrder/Orders_Database.csv\", \"r\");\n",
        "    print(myfile.read())\n",
        "    myfile.close()"
      ],
      "metadata": {
        "colab": {
          "base_uri": "https://localhost:8080/"
        },
        "id": "6JeBenLXRPbA",
        "outputId": "b582a981-59d4-4098-fbfa-3ec8e3fceb28"
      },
      "execution_count": 60,
      "outputs": [
        {
          "output_type": "stream",
          "name": "stdout",
          "text": [
            "Name: Batuhan, Card ID: 2451 2456 3546 3241, Password: 1234, Pizza Cost: 110, Pizza Description: Classic Pizza, Olive, Order Time: Mon Mar 13 18:46:04 2023\n",
            "Name: Osman, Card ID: 2145 3251 3425 3262, Password: 3263, Pizza Cost: 350, Pizza Description: Turkish Pizza, GoatCheese, Mushroom, Order Time: Mon Mar 13 18:46:38 2023\n",
            "\n"
          ]
        }
      ]
    }
  ]
}